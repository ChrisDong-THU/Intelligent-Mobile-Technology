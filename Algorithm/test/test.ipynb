{
 "cells": [
  {
   "cell_type": "code",
   "execution_count": 3,
   "metadata": {},
   "outputs": [],
   "source": [
    "import numpy as np\n",
    "import math\n"
   ]
  },
  {
   "cell_type": "code",
   "execution_count": 4,
   "metadata": {},
   "outputs": [],
   "source": [
    "x = 0\n",
    "y = -10"
   ]
  },
  {
   "cell_type": "code",
   "execution_count": 5,
   "metadata": {},
   "outputs": [
    {
     "name": "stdout",
     "output_type": "stream",
     "text": [
      "3.141592653589793\n",
      "180.0\n"
     ]
    }
   ],
   "source": [
    "angle = np.arctan2(x, y)\n",
    "angle2 = angle*180/np.pi\n",
    "print(angle)\n",
    "print(angle2)"
   ]
  },
  {
   "cell_type": "code",
   "execution_count": 6,
   "metadata": {},
   "outputs": [
    {
     "data": {
      "text/plain": [
       "1"
      ]
     },
     "execution_count": 6,
     "metadata": {},
     "output_type": "execute_result"
    }
   ],
   "source": [
    "dicttmp = dict()\n",
    "\n",
    "dicttmp['a'] = 2\n",
    "\n",
    "len(dicttmp)"
   ]
  },
  {
   "cell_type": "code",
   "execution_count": 21,
   "metadata": {},
   "outputs": [
    {
     "data": {
      "text/plain": [
       "10"
      ]
     },
     "execution_count": 21,
     "metadata": {},
     "output_type": "execute_result"
    }
   ],
   "source": [
    "data = np.array([[1, 2, 3, 4], [3, 4, 5, 6], [5, 6, 7, 8], [7, 8, 9, 10]])\n",
    "data[-1, 3]"
   ]
  },
  {
   "cell_type": "code",
   "execution_count": 22,
   "metadata": {},
   "outputs": [
    {
     "data": {
      "text/plain": [
       "4"
      ]
     },
     "execution_count": 22,
     "metadata": {},
     "output_type": "execute_result"
    }
   ],
   "source": [
    "shape = data.shape[0]\n",
    "shape"
   ]
  },
  {
   "cell_type": "code",
   "execution_count": 48,
   "metadata": {},
   "outputs": [],
   "source": [
    "v1 = data[:, [2,3]]\n",
    "v2 = v1[:,0]\n",
    "v3 = v1[:,1]"
   ]
  },
  {
   "cell_type": "code",
   "execution_count": 55,
   "metadata": {},
   "outputs": [
    {
     "data": {
      "text/plain": [
       "6"
      ]
     },
     "execution_count": 55,
     "metadata": {},
     "output_type": "execute_result"
    }
   ],
   "source": [
    "deltav2 = np.array([-1, 2, 3])\n",
    "deltav2 = abs(deltav2)\n",
    "deltav2 = sum(deltav2)\n",
    "deltav2"
   ]
  },
  {
   "cell_type": "code",
   "execution_count": 67,
   "metadata": {},
   "outputs": [
    {
     "data": {
      "text/plain": [
       "0.49297726624738414"
      ]
     },
     "execution_count": 67,
     "metadata": {},
     "output_type": "execute_result"
    }
   ],
   "source": [
    "import random\n",
    "\n",
    "random.random()"
   ]
  },
  {
   "attachments": {},
   "cell_type": "markdown",
   "metadata": {},
   "source": [
    "类的静态方法调用问题"
   ]
  },
  {
   "cell_type": "code",
   "execution_count": 3,
   "metadata": {},
   "outputs": [
    {
     "data": {
      "text/plain": [
       "(13, 13, 3)"
      ]
     },
     "execution_count": 3,
     "metadata": {},
     "output_type": "execute_result"
    }
   ],
   "source": [
    "class K():\n",
    "    @staticmethod\n",
    "    def tmp1(n):\n",
    "        \"\"\"测试\n",
    "\n",
    "        Returns:\n",
    "            int: 12\n",
    "        \"\"\"\n",
    "        return n+12\n",
    "    \n",
    "    def tmp2(self):\n",
    "        k = self.tmp1()\n",
    "        return k\n",
    "    \n",
    "    def tmp3(self):\n",
    "        # 会报错，默认传参self\n",
    "        # k = self.tmp4(1, 2)\n",
    "        # 正常，静态方法\n",
    "        k = self.tmp1(1)\n",
    "        return k\n",
    "    \n",
    "    def tmp4(k, h):\n",
    "        return k+h\n",
    "\n",
    "k = K()\n",
    "# 使用类调用都可以 但静态方法还可以使用实例调用 但是一般方法不可以使用实例调用\n",
    "k.tmp3(), K.tmp1(1), K.tmp4(1, 2)"
   ]
  }
 ],
 "metadata": {
  "kernelspec": {
   "display_name": "base",
   "language": "python",
   "name": "python3"
  },
  "language_info": {
   "codemirror_mode": {
    "name": "ipython",
    "version": 3
   },
   "file_extension": ".py",
   "mimetype": "text/x-python",
   "name": "python",
   "nbconvert_exporter": "python",
   "pygments_lexer": "ipython3",
   "version": "3.9.13"
  },
  "orig_nbformat": 4
 },
 "nbformat": 4,
 "nbformat_minor": 2
}
